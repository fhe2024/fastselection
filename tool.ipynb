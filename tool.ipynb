{
 "cells": [
  {
   "cell_type": "markdown",
   "id": "66244847",
   "metadata": {},
   "source": [
    "Simple examples of how to use our formulas to obtain approximations of the security level and the LWE dimension of a set of parameters.  "
   ]
  },
  {
   "cell_type": "code",
   "execution_count": 12,
   "id": "360b3565",
   "metadata": {},
   "outputs": [],
   "source": [
    "import numpy as np\n",
    "import math\n",
    "from estimator import *"
   ]
  },
  {
   "cell_type": "markdown",
   "id": "73e9d131",
   "metadata": {},
   "source": [
    "## Security level"
   ]
  },
  {
   "cell_type": "code",
   "execution_count": 13,
   "id": "4c8a0973",
   "metadata": {},
   "outputs": [],
   "source": [
    "params_lambda_red_usvp_U3 = [0.83354, 0.15494, 1.46982, 18.09877]\n",
    "params_lambda_red_usvp_U2 = [0.44530, 1.48698, 0.95011, 11.21416]"
   ]
  },
  {
   "cell_type": "code",
   "execution_count": 14,
   "id": "772628e0",
   "metadata": {},
   "outputs": [],
   "source": [
    "def lambda_red_usvp(n,lnq,params):\n",
    "    return params[0]*math.log((params[1]*n)/lnq)*(n/lnq) + params[2]*math.log(n) + params[3]"
   ]
  },
  {
   "cell_type": "markdown",
   "id": "0ae7adfb",
   "metadata": {},
   "source": [
    "### An example"
   ]
  },
  {
   "cell_type": "code",
   "execution_count": 15,
   "id": "41055223",
   "metadata": {},
   "outputs": [
    {
     "name": "stdout",
     "output_type": "stream",
     "text": [
      "logq:  16 est formula:  233 est:  231.0\n",
      "logq:  18 est formula:  202 est:  204.0\n",
      "logq:  19 est formula:  190 est:  193.0\n",
      "logq:  25 est formula:  137 est:  143.0\n",
      "logq:  27 est formula:  126 est:  132.0\n"
     ]
    }
   ],
   "source": [
    "logqs = [16,18,19,25,27]\n",
    "n = 2**10\n",
    "\n",
    "params = params_lambda_red_usvp_U3\n",
    "\n",
    "for logq in logqs:\n",
    "    lnq = math.log(2**logq)\n",
    "    est_f = round(lambda_red_usvp(n,lnq,params))\n",
    "    FHEParam = LWE.Parameters(n, q=2**logq, Xs=ND.UniformMod(3), Xe=ND.DiscreteGaussian(stddev=3.19))\n",
    "    primal_usvp_cost = LWE.primal_usvp(FHEParam, red_cost_model=RC.BDGL16)\n",
    "    print('logq: ', logq, \"est formula: \", est_f, \"est: \", round(math.log(primal_usvp_cost['rop'],2)))"
   ]
  },
  {
   "cell_type": "markdown",
   "id": "0da8730e",
   "metadata": {},
   "source": [
    "## LWE dimension"
   ]
  },
  {
   "cell_type": "code",
   "execution_count": 16,
   "id": "a2f1297e",
   "metadata": {},
   "outputs": [],
   "source": [
    "params_n_usvp_U3 = [-1.07304, 0.27831, 0.93120, 0.792882]\n",
    "params_n_usvp_U2 = [-1.142080, 0.231197, 1.106616, -0.233138]\n",
    "\n",
    "params_n_bdd_U3 = [2.36830289, -0.67630697, -4.10436958, -19.1104812]\n",
    "params_n_bdd_U2 = [2.46304008, 3.42658016, -24.9248619, 128.041708]"
   ]
  },
  {
   "cell_type": "code",
   "execution_count": 17,
   "id": "f937b858",
   "metadata": {},
   "outputs": [],
   "source": [
    "def n_usvp(l,lnq,params):\n",
    "    return np.multiply(np.divide(l + params[0]*np.log(lnq), params[2]+ params[1]*np.log(l)) + params[3], lnq)\n",
    "\n",
    "def n_bdd(l,lnq,params):\n",
    "    return np.multiply(params[0]*np.divide(l,np.log(l)) + params[1]*np.log(lnq) + params[2],lnq) + params[3]"
   ]
  },
  {
   "cell_type": "markdown",
   "id": "9658dfc8",
   "metadata": {},
   "source": [
    "### An example"
   ]
  },
  {
   "cell_type": "code",
   "execution_count": 11,
   "id": "f615d4b8",
   "metadata": {},
   "outputs": [
    {
     "name": "stdout",
     "output_type": "stream",
     "text": [
      "\n",
      "\n",
      "logq  27 est input  128 n usvp 1043 n bdd 1065 est usvp 130.0 est bdd 131.0\n",
      "logq  37 est input  128 n usvp 1425 n bdd 1440 est usvp 130.0 est bdd 129.0\n",
      "logq  45 est input  129 n usvp 1742 n bdd 1758 est usvp 131.0 est bdd 130.0\n",
      "logq  54 est input  128 n usvp 2072 n bdd 2092 est usvp 129.0 est bdd 130.0\n"
     ]
    }
   ],
   "source": [
    "logqs = [[27,37,45,54]]\n",
    "sec = [[128,128,129,128]]\n",
    "\n",
    "params_usvp = params_n_usvp_U2\n",
    "params_bdd = params_n_bdd_U2\n",
    "\n",
    "for i in range(len(sec)):\n",
    "    print(\"\\n\")\n",
    "    for j in range(len(sec[0])):\n",
    "        logq = logqs[i][j]\n",
    "        l = sec[i][j]\n",
    "        lnq = math.log(2**logq)\n",
    "        \n",
    "        n_u = int(round(n_usvp(l,lnq,params_usvp)))\n",
    "        n_b = int(round(n_bdd(l,lnq,params_bdd)))\n",
    "        \n",
    "        FHEParam = LWE.Parameters(n_u, q=2**logq, Xs=ND.UniformMod(2), Xe=ND.DiscreteGaussian(stddev=3.19))\n",
    "        primal_usvp_cost = LWE.primal_usvp(FHEParam, red_cost_model=RC.BDGL16)\n",
    "        FHEParam = LWE.Parameters(n_b, q=2**logq, Xs=ND.UniformMod(2), Xe=ND.DiscreteGaussian(stddev=3.19))\n",
    "        primal_bdd_cost = LWE.primal_bdd(FHEParam, red_cost_model=RC.BDGL16)\n",
    "        \n",
    "        print(\"logq \", logq, \"est input \", l, \"n usvp\", n_u, \"n bdd\", n_b, \"est usvp\", round(math.log(primal_usvp_cost['rop'],2)), \"est bdd\", round(math.log(primal_bdd_cost['rop'],2)))"
   ]
  }
 ],
 "metadata": {
  "kernelspec": {
   "display_name": "SageMath 9.8",
   "language": "sage",
   "name": "sagemath"
  },
  "language_info": {
   "codemirror_mode": {
    "name": "ipython",
    "version": 3
   },
   "file_extension": ".py",
   "mimetype": "text/x-python",
   "name": "python",
   "nbconvert_exporter": "python",
   "pygments_lexer": "ipython3",
   "version": "3.10.6"
  }
 },
 "nbformat": 4,
 "nbformat_minor": 5
}
